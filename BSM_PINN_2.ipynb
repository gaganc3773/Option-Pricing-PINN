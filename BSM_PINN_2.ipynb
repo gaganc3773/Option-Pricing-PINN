{
 "cells": [
  {
   "cell_type": "code",
   "execution_count": 2,
   "id": "5e6a9fe3-d781-4373-ae13-3497cae6eac9",
   "metadata": {},
   "outputs": [],
   "source": [
    "import numpy as np\n",
    "import torch\n",
    "import torch.nn as nn\n",
    "import torch.optim as optim\n",
    "import numpy as np\n",
    "from scipy.stats import norm\n",
    "from pyDOE import lhs\n",
    "from sklearn.metrics import mean_squared_error, r2_score"
   ]
  },
  {
   "cell_type": "code",
   "execution_count": 3,
   "id": "78bc74d3-6ed3-4a59-9b6d-deecc1f98142",
   "metadata": {},
   "outputs": [],
   "source": [
    "#create a NN architecture\n",
    "\n",
    "class NN(nn.Module):\n",
    "    def __init__(self):\n",
    "        super(NN, self).__init__()\n",
    "\n",
    "        self.hiddenlayers = nn.Sequential(\n",
    "        nn.Linear(5, 64),\n",
    "        nn.ReLU(),\n",
    "        nn.Linear(64,64),\n",
    "        nn.ReLU(),\n",
    "        nn.Linear(64,1)\n",
    "        )\n",
    "\n",
    "    def forward(self, X):\n",
    "        return self.hiddenlayers(X)\n",
    "\n",
    "model = NN()"
   ]
  },
  {
   "cell_type": "code",
   "execution_count": null,
   "id": "1877b9d8-9309-42ca-8386-6b5657c503aa",
   "metadata": {},
   "outputs": [],
   "source": [
    "\n",
    "\n",
    "def BSM_loss(model, X_f, X_T, X_lb, X_ub, T, S_max,\n",
    "             lambda_pde=1.0, lambda_T=10.0, lambda_bc=10.0,\n",
    "             option_type='call'):\n",
    "    \"\"\"\n",
    "    PINN Loss for European Call or Put Options under BSM.\n",
    "    ------------------------------------------------------\n",
    "    model: neural network approximating V(t, S, r, sigma, K)\n",
    "    option_type: 'call' or 'put'\n",
    "    \"\"\"\n",
    "\n",
    "    # ========== PDE Residual ==========\n",
    "    X_f.requires_grad = True\n",
    "    V_pred = model(X_f)\n",
    "\n",
    "    t_f = X_f[:, 0:1]\n",
    "    S_f = X_f[:, 1:2]\n",
    "    r_f = X_f[:, 2:3]\n",
    "    sigma_f = X_f[:, 3:4]\n",
    "\n",
    "    grads = torch.autograd.grad(V_pred.sum(), X_f, create_graph=True)[0]\n",
    "    V_t = grads[:, 0:1]\n",
    "    V_S = grads[:, 1:2]\n",
    "    V_SS = torch.autograd.grad(V_S.sum(), X_f, create_graph=True)[0][:, 1:2]\n",
    "\n",
    "    # PDE Residual: ∂V/∂t + ½σ²S²∂²V/∂S² + rS∂V/∂S - rV = 0\n",
    "    residual = V_t + 0.5 * sigma_f**2 * S_f**2 * V_SS + r_f * S_f * V_S - r_f * V_pred\n",
    "    pde_loss = torch.mean(residual**2)\n",
    "\n",
    "    # ========== Terminal Condition ==========\n",
    "    S_T = X_T[:, 1:2]\n",
    "    K_T = X_T[:, 4:5]\n",
    "\n",
    "    if option_type == 'call':\n",
    "        payoff = torch.clamp(S_T - K_T, min=0.0)\n",
    "    elif option_type == 'put':\n",
    "        payoff = torch.clamp(K_T - S_T, min=0.0)\n",
    "    else:\n",
    "        raise ValueError(\"option_type must be 'call' or 'put'\")\n",
    "\n",
    "    V_T_pred = model(X_T)\n",
    "    terminal_loss = torch.mean((V_T_pred - payoff)**2)\n",
    "\n",
    "    # ========== Boundary Conditions ==========\n",
    "\n",
    "    # Left boundary: S = 0\n",
    "    V_lb_pred = model(X_lb)\n",
    "    if option_type == 'call':\n",
    "        left_bc_target = torch.zeros_like(V_lb_pred)\n",
    "    else:  # put\n",
    "        K_lb = X_lb[:, 4:5]\n",
    "        left_bc_target = K_lb * torch.exp(-r_f * (T - X_lb[:, 0:1]))\n",
    "    left_bc_loss = torch.mean((V_lb_pred - left_bc_target)**2)\n",
    "\n",
    "    # Right boundary: S = S_max\n",
    "    t_ub = X_ub[:, 0:1]\n",
    "    S_ub = X_ub[:, 1:2]\n",
    "    r_ub = X_ub[:, 2:3]\n",
    "    K_ub = X_ub[:, 4:5]\n",
    "    V_ub_pred = model(X_ub)\n",
    "\n",
    "    if option_type == 'call':\n",
    "        right_bc_target = S_ub - K_ub * torch.exp(-r_ub * (T - t_ub))\n",
    "    else:  # put\n",
    "        right_bc_target = torch.zeros_like(V_ub_pred)\n",
    "    right_bc_loss = torch.mean((V_ub_pred - right_bc_target)**2)\n",
    "\n",
    "    # ========== Total Loss ==========\n",
    "    total_loss = (\n",
    "        lambda_pde * pde_loss +\n",
    "        lambda_T * terminal_loss +\n",
    "        lambda_bc * (left_bc_loss + right_bc_loss)\n",
    "    )\n",
    "\n",
    "    return total_loss, pde_loss.item(), terminal_loss.item(), left_bc_loss.item(), right_bc_loss.item()\n"
   ]
  },
  {
   "cell_type": "code",
   "execution_count": null,
   "id": "87c0536a",
   "metadata": {},
   "outputs": [],
   "source": [
    "def BSM_loss_american(model, X_f, X_T, X_lb, X_ub, T, S_max,\n",
    "                      lambda_pde=1.0, lambda_T=10.0, lambda_bc=10.0, lambda_ex=10.0,\n",
    "                      option_type='put'):\n",
    "    \"\"\"\n",
    "    PINN Loss for American Options (default: Put).\n",
    "    Adds early exercise constraint: V >= payoff(S).\n",
    "    \"\"\"\n",
    "\n",
    "    # PDE Residual (same as European)\n",
    "    X_f.requires_grad = True\n",
    "    V_pred = model(X_f)\n",
    "    t_f = X_f[:, 0:1]\n",
    "    S_f = X_f[:, 1:2]\n",
    "    r_f = X_f[:, 2:3]\n",
    "    sigma_f = X_f[:, 3:4]\n",
    "\n",
    "    grads = torch.autograd.grad(V_pred.sum(), X_f, create_graph=True)[0]\n",
    "    V_t = grads[:, 0:1]\n",
    "    V_S = grads[:, 1:2]\n",
    "    V_SS = torch.autograd.grad(V_S.sum(), X_f, create_graph=True)[0][:, 1:2]\n",
    "\n",
    "    residual = V_t + 0.5 * sigma_f**2 * S_f**2 * V_SS + r_f * S_f * V_S - r_f * V_pred\n",
    "    pde_loss = torch.mean(residual**2)\n",
    "\n",
    "    # Terminal Condition\n",
    "    S_T = X_T[:, 1:2]\n",
    "    K_T = X_T[:, 4:5]\n",
    "    if option_type == 'call':\n",
    "        payoff = torch.clamp(S_T - K_T, min=0.0)\n",
    "    else:\n",
    "        payoff = torch.clamp(K_T - S_T, min=0.0)\n",
    "    V_T_pred = model(X_T)\n",
    "    terminal_loss = torch.mean((V_T_pred - payoff)**2)\n",
    "\n",
    "    # Boundary Conditions\n",
    "    V_lb_pred = model(X_lb)\n",
    "    if option_type == 'call':\n",
    "        left_bc_target = torch.zeros_like(V_lb_pred)\n",
    "    else:\n",
    "        K_lb = X_lb[:, 4:5]\n",
    "        left_bc_target = K_lb * torch.exp(-r_f * (T - X_lb[:, 0:1]))\n",
    "    left_bc_loss = torch.mean((V_lb_pred - left_bc_target)**2)\n",
    "\n",
    "    t_ub = X_ub[:, 0:1]\n",
    "    S_ub = X_ub[:, 1:2]\n",
    "    r_ub = X_ub[:, 2:3]\n",
    "    K_ub = X_ub[:, 4:5]\n",
    "    V_ub_pred = model(X_ub)\n",
    "    if option_type == 'call':\n",
    "        right_bc_target = S_ub - K_ub * torch.exp(-r_ub * (T - t_ub))\n",
    "    else:\n",
    "        right_bc_target = torch.zeros_like(V_ub_pred)\n",
    "    right_bc_loss = torch.mean((V_ub_pred - right_bc_target)**2)\n",
    "\n",
    "    # Early exercise penalty\n",
    "    payoff_all = torch.clamp(K_T - S_f, min=0.0) if option_type == 'put' else torch.clamp(S_f - K_T, min=0.0)\n",
    "    exercise_loss = torch.mean(torch.relu(payoff_all - V_pred)**2)\n",
    "\n",
    "    # Total Loss\n",
    "    total_loss = (\n",
    "        lambda_pde * pde_loss +\n",
    "        lambda_T * terminal_loss +\n",
    "        lambda_bc * (left_bc_loss + right_bc_loss) +\n",
    "        lambda_ex * exercise_loss\n",
    "    )\n",
    "\n",
    "    return total_loss, pde_loss.item(), terminal_loss.item(), left_bc_loss.item(), right_bc_loss.item(), exercise_loss.item()\n"
   ]
  },
  {
   "cell_type": "code",
   "execution_count": 5,
   "id": "ae449887-ba12-4ddb-ba83-532adf557636",
   "metadata": {},
   "outputs": [],
   "source": [
    "# Stock price and time domain\n",
    "S_min, S_max = 0.0, 200.0\n",
    "T_min, T_max = 0.0, 1.0  # time in years\n",
    "\n",
    "# Parameter ranges\n",
    "r_range = [0.01, 0.1]        # risk-free rate\n",
    "sigma_range = [0.1, 0.5]     # volatility\n",
    "K_range = [50, 150]          # strike price\n",
    "\n",
    "# Number of points\n",
    "N_f = 10000      # PDE interior points\n",
    "N_T = 1000       # Terminal points\n",
    "N_lb = 1000      # Left boundary (S=0)\n",
    "N_ub = 1000      # Right boundary (S=S_max)"
   ]
  },
  {
   "cell_type": "code",
   "execution_count": 6,
   "id": "2ddb717e-3a2c-4a6a-9ea0-4b04f3b70575",
   "metadata": {},
   "outputs": [],
   "source": [
    "lhs_samples = lhs(5, N_f)  # 5 inputs: t, S, r, sigma, K\n",
    "t_f = T_min + (T_max - T_min) * lhs_samples[:, 0:1]\n",
    "S_f = S_min + (S_max - S_min) * lhs_samples[:, 1:2]\n",
    "r_f = r_range[0] + (r_range[1] - r_range[0]) * lhs_samples[:, 2:3]\n",
    "sigma_f = sigma_range[0] + (sigma_range[1] - sigma_range[0]) * lhs_samples[:, 3:4]\n",
    "K_f = K_range[0] + (K_range[1] - K_range[0]) * lhs_samples[:, 4:5]\n",
    "\n",
    "X_f = torch.tensor(np.hstack([t_f, S_f, r_f, sigma_f, K_f]), dtype=torch.float32)"
   ]
  },
  {
   "cell_type": "code",
   "execution_count": 7,
   "id": "a48a66a2-d828-463c-903b-7c0be36546b1",
   "metadata": {},
   "outputs": [],
   "source": [
    "S_T = np.random.uniform(S_min, S_max, (N_T, 1))\n",
    "r_T = np.random.uniform(r_range[0], r_range[1], (N_T, 1))\n",
    "sigma_T = np.random.uniform(sigma_range[0], sigma_range[1], (N_T, 1))\n",
    "K_T = np.random.uniform(K_range[0], K_range[1], (N_T, 1))\n",
    "t_T = T_max * np.ones((N_T, 1))\n",
    "\n",
    "X_T = torch.tensor(np.hstack([t_T, S_T, r_T, sigma_T, K_T]), dtype=torch.float32)"
   ]
  },
  {
   "cell_type": "code",
   "execution_count": 8,
   "id": "d7510fd2-7f31-460d-99a2-641092fe10ba",
   "metadata": {},
   "outputs": [],
   "source": [
    "t_lb = np.random.uniform(T_min, T_max, (N_lb, 1))\n",
    "S_lb = np.zeros((N_lb, 1))\n",
    "r_lb = np.random.uniform(r_range[0], r_range[1], (N_lb, 1))\n",
    "sigma_lb = np.random.uniform(sigma_range[0], sigma_range[1], (N_lb, 1))\n",
    "K_lb = np.random.uniform(K_range[0], K_range[1], (N_lb, 1))\n",
    "\n",
    "X_lb = torch.tensor(np.hstack([t_lb, S_lb, r_lb, sigma_lb, K_lb]), dtype=torch.float32)"
   ]
  },
  {
   "cell_type": "code",
   "execution_count": 9,
   "id": "86f7924b-6043-4feb-b397-4fa24b21f9d2",
   "metadata": {},
   "outputs": [],
   "source": [
    "t_ub = np.random.uniform(T_min, T_max, (N_ub, 1))\n",
    "S_ub = S_max * np.ones((N_ub, 1))\n",
    "r_ub = np.random.uniform(r_range[0], r_range[1], (N_ub, 1))\n",
    "sigma_ub = np.random.uniform(sigma_range[0], sigma_range[1], (N_ub, 1))\n",
    "K_ub = np.random.uniform(K_range[0], K_range[1], (N_ub, 1))\n",
    "\n",
    "X_ub = torch.tensor(np.hstack([t_ub, S_ub, r_ub, sigma_ub, K_ub]), dtype=torch.float32)"
   ]
  },
  {
   "cell_type": "code",
   "execution_count": 10,
   "id": "30ac769d-7977-4def-aa36-cb276d18aed6",
   "metadata": {},
   "outputs": [
    {
     "name": "stdout",
     "output_type": "stream",
     "text": [
      "Epoch 0001 | Total Loss: 109361.250000 | PDE: 0.015857, Terminal: 1628.437500, Left BC: 2.275175, Right BC: 9305.410156\n",
      "Epoch 0500 | Total Loss: 59.288876 | PDE: 11.144429, Terminal: 0.773019, Left BC: 0.028931, Right BC: 4.012495\n",
      "Epoch 1000 | Total Loss: 36.982254 | PDE: 5.938542, Terminal: 0.375194, Left BC: 0.022215, Right BC: 2.706963\n",
      "Epoch 1500 | Total Loss: 27.921913 | PDE: 4.290732, Terminal: 0.247611, Left BC: 0.006691, Right BC: 2.108816\n",
      "Epoch 2000 | Total Loss: 23.891928 | PDE: 4.130654, Terminal: 0.140226, Left BC: 0.001893, Right BC: 1.834008\n",
      "Epoch 2500 | Total Loss: 21.304840 | PDE: 4.181490, Terminal: 0.094884, Left BC: 0.001930, Right BC: 1.615521\n",
      "Epoch 3000 | Total Loss: 19.822666 | PDE: 4.254797, Terminal: 0.106144, Left BC: 0.001835, Right BC: 1.448808\n",
      "Epoch 3500 | Total Loss: 18.611652 | PDE: 4.260061, Terminal: 0.135061, Left BC: 0.001650, Right BC: 1.298448\n",
      "Epoch 4000 | Total Loss: 17.725716 | PDE: 4.226610, Terminal: 0.170684, Left BC: 0.001551, Right BC: 1.177675\n",
      "Epoch 4500 | Total Loss: 16.970417 | PDE: 4.160196, Terminal: 0.202567, Left BC: 0.001647, Right BC: 1.076808\n",
      "Epoch 5000 | Total Loss: 16.378933 | PDE: 4.098160, Terminal: 0.230816, Left BC: 0.002016, Right BC: 0.995245\n"
     ]
    }
   ],
   "source": [
    "optimizer = optim.Adam(model.parameters(), lr=1e-3)\n",
    "epochs = 5000\n",
    "print_every = 500\n",
    "\n",
    "for epoch in range(1, epochs+1):\n",
    "    optimizer.zero_grad()\n",
    "\n",
    "    # Compute total loss and components\n",
    "    total_loss, pde_loss, terminal_loss, left_bc_loss, right_bc_loss = BSM_loss(\n",
    "        model, X_f, X_T, X_lb, X_ub, T=T_max, S_max=S_max,\n",
    "        lambda_pde=1.0, lambda_T=10.0, lambda_bc=10.0\n",
    "    )\n",
    "\n",
    "    # Backpropagation\n",
    "    total_loss.backward()\n",
    "    optimizer.step()\n",
    "\n",
    "    # Print progress\n",
    "    if epoch % print_every == 0 or epoch == 1:\n",
    "        print(f\"Epoch {epoch:04d} | Total Loss: {total_loss.item():.6f} | \"\n",
    "              f\"PDE: {pde_loss:.6f}, Terminal: {terminal_loss:.6f}, \"\n",
    "              f\"Left BC: {left_bc_loss:.6f}, Right BC: {right_bc_loss:.6f}\")"
   ]
  },
  {
   "cell_type": "code",
   "execution_count": 11,
   "id": "7720c1b8-5160-4c9d-8932-7098fb87bcde",
   "metadata": {},
   "outputs": [],
   "source": [
    "def bs_price(S, K, T, t, r, sigma):\n",
    "    from scipy.stats import norm\n",
    "    import numpy as np\n",
    "\n",
    "    tau = T - t\n",
    "    tau = np.maximum(tau, 1e-10)  # avoid zero division\n",
    "    d1 = (np.log(S/K) + (r + 0.5*sigma**2)*tau) / (sigma * np.sqrt(tau))\n",
    "    d2 = d1 - sigma * np.sqrt(tau)\n",
    "    price = S * norm.cdf(d1) - K * np.exp(-r*tau) * norm.cdf(d2)\n",
    "    price[S <= 0] = 0.0  # handle S=0\n",
    "    return price"
   ]
  },
  {
   "cell_type": "code",
   "execution_count": 12,
   "id": "b81b16bd-171d-493b-95e8-4babc30aa519",
   "metadata": {},
   "outputs": [],
   "source": [
    "n_S_test, n_t_test, n_r_test, n_sigma_test, n_K_test = 50, 50, 3, 3, 3\n",
    "\n",
    "S_test = np.linspace(S_min, S_max, n_S_test)\n",
    "t_test = np.linspace(T_min, T_max, n_t_test)\n",
    "r_test = np.linspace(r_range[0], r_range[1], n_r_test)\n",
    "sigma_test = np.linspace(sigma_range[0], sigma_range[1], n_sigma_test)\n",
    "K_test = np.linspace(K_range[0], K_range[1], n_K_test)\n",
    "\n",
    "# Create meshgrid\n",
    "mesh = np.array(np.meshgrid(t_test, S_test, r_test, sigma_test, K_test, indexing='ij'))\n",
    "X_test = mesh.reshape(5, -1).T  # shape: [num_test_points, 5]\n",
    "X_test = torch.tensor(X_test, dtype=torch.float32)\n",
    "\n",
    "X_test_np = X_test.numpy()"
   ]
  },
  {
   "cell_type": "code",
   "execution_count": 13,
   "id": "58ce77f6-9ca1-4a60-93a6-17583f7efa02",
   "metadata": {},
   "outputs": [
    {
     "name": "stderr",
     "output_type": "stream",
     "text": [
      "/tmp/ipykernel_17322/4259886069.py:7: RuntimeWarning: divide by zero encountered in log\n",
      "  d1 = (np.log(S/K) + (r + 0.5*sigma**2)*tau) / (sigma * np.sqrt(tau))\n"
     ]
    }
   ],
   "source": [
    "model.eval()\n",
    "with torch.no_grad():\n",
    "    V_pred_test = model(X_test).cpu().numpy()\n",
    "\n",
    "X_test_np = X_test.numpy()\n",
    "S_test_vals = X_test_np[:, 1]\n",
    "t_test_vals = X_test_np[:, 0]\n",
    "r_test_vals = X_test_np[:, 2]\n",
    "sigma_test_vals = X_test_np[:, 3]\n",
    "K_test_vals = X_test_np[:, 4]\n",
    "\n",
    "V_true_test = bs_price(S_test_vals, K_test_vals, T_max, t_test_vals, r_test_vals, sigma_test_vals)"
   ]
  },
  {
   "cell_type": "code",
   "execution_count": 14,
   "id": "f4fa4ebb-02b6-4312-a198-01e7958bb769",
   "metadata": {},
   "outputs": [
    {
     "name": "stdout",
     "output_type": "stream",
     "text": [
      "Test RMSE: 4.016766 | R² Score: 0.990525\n"
     ]
    }
   ],
   "source": [
    "rmse = np.sqrt(mean_squared_error(V_true_test, V_pred_test))\n",
    "r2 = r2_score(V_true_test, V_pred_test)\n",
    "print(f\"Test RMSE: {rmse:.6f} | R² Score: {r2:.6f}\")"
   ]
  },
  {
   "cell_type": "code",
   "execution_count": 15,
   "id": "41fc2c5f-e61c-4cd5-b6d9-4f5ec8802c81",
   "metadata": {},
   "outputs": [
    {
     "name": "stdout",
     "output_type": "stream",
     "text": [
      "67500 50\n"
     ]
    }
   ],
   "source": [
    "print(len(S_test_vals), len(np.unique(S_test_vals)))"
   ]
  },
  {
   "cell_type": "code",
   "execution_count": 16,
   "id": "ff845a4e-41af-4025-8d63-363df8c229db",
   "metadata": {},
   "outputs": [
    {
     "data": {
      "image/png": "[encoded data removed]",
      "text/plain": [
       "<Figure size 800x400 with 1 Axes>"
      ]
     },
     "metadata": {},
     "output_type": "display_data"
    }
   ],
   "source": [
    "import numpy as np\n",
    "import matplotlib.pyplot as plt\n",
    "\n",
    "S = np.array(S_test_vals).squeeze()\n",
    "V_true = np.array(V_true_test).squeeze()\n",
    "V_pred = np.array(V_pred_test).squeeze()\n",
    "\n",
    "# Group by unique S\n",
    "S_unique = np.unique(S)\n",
    "V_true_mean = [V_true[S == s].mean() for s in S_unique]\n",
    "V_pred_mean = [V_pred[S == s].mean() for s in S_unique]\n",
    "\n",
    "# Plot smooth averaged curve\n",
    "plt.figure(figsize=(8, 4))\n",
    "plt.plot(S_unique, V_true_mean, 'r--', label=\"True Price\", linewidth=2)\n",
    "plt.plot(S_unique, V_pred_mean, 'b', alpha=0.8, label=\"PINN Predicted\", linewidth=1.5)\n",
    "plt.xlabel(\"Underlying Price (S)\")\n",
    "plt.ylabel(\"Option Price\")\n",
    "plt.title(\"PINN Predictions vs True BSM Call Prices (Averaged)\")\n",
    "plt.legend()\n",
    "plt.grid(True)\n",
    "plt.tight_layout()\n",
    "plt.show()\n"
   ]
  },
  {
   "cell_type": "code",
   "execution_count": 51,
   "id": "23088c9b-0f20-4785-bdd3-199156151032",
   "metadata": {},
   "outputs": [],
   "source": [
    "torch.save(model.state_dict(), \"model.pt\")"
   ]
  },
  {
   "cell_type": "code",
   "execution_count": 32,
   "id": "d35271a2-143c-41fb-9643-06253f48d455",
   "metadata": {},
   "outputs": [],
   "source": [
    "import pandas as pd\n",
    "predictions = pd.DataFrame({ 'Asset_Price' : S_unique,\n",
    "                             'True_OptionPrice' : V_true_mean,\n",
    "                             'Predicted_OptionPrice_PINN': V_pred_mean })"
   ]
  },
  {
   "cell_type": "code",
   "execution_count": 34,
   "id": "69a1e685-22bb-4f27-a540-3711a2e21cc5",
   "metadata": {},
   "outputs": [],
   "source": [
    "predictions.to_csv(\"predictions.csv\", index = False )"
   ]
  },
  {
   "cell_type": "code",
   "execution_count": null,
   "id": "c188c087-79ee-469c-9ee9-c7f436443145",
   "metadata": {},
   "outputs": [],
   "source": []
  }
 ],
 "metadata": {
  "kernelspec": {
   "display_name": "Python 3 (ipykernel)",
   "language": "python",
   "name": "python3"
  },
  "language_info": {
   "codemirror_mode": {
    "name": "ipython",
    "version": 3
   },
   "file_extension": ".py",
   "mimetype": "text/x-python",
   "name": "python",
   "nbconvert_exporter": "python",
   "pygments_lexer": "ipython3",
   "version": "3.13.7"
  }
 },
 "nbformat": 4,
 "nbformat_minor": 5
}
